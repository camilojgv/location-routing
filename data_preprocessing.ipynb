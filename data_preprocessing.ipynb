{
 "cells": [
  {
   "cell_type": "markdown",
   "id": "b24fc9a8",
   "metadata": {},
   "source": [
    "## Kepler GL maps in jupyter"
   ]
  },
  {
   "cell_type": "code",
   "execution_count": 1,
   "id": "e36eaa2f",
   "metadata": {},
   "outputs": [
    {
     "name": "stdout",
     "output_type": "stream",
     "text": [
      "   LATITUDE  LONGITUDE    ID  TOTAL_DELIVERIES  KG_DEMAND\n",
      "0  4.685108 -74.100933   683                41         57\n",
      "1  4.671309 -74.105405   787               120        249\n",
      "2 -2.891841 -69.741923   296               183        213\n",
      "3  4.582506 -74.115791  6158                27        817\n",
      "4  5.614484 -73.821126   810                70        252\n",
      "User Guide: https://docs.kepler.gl/docs/keplergl-jupyter\n"
     ]
    },
    {
     "data": {
      "application/vnd.jupyter.widget-view+json": {
       "model_id": "bb7da9df6a5048dca280fc54283b707a",
       "version_major": 2,
       "version_minor": 0
      },
      "text/plain": [
       "KeplerGl(data={'UPZ Bogotá': {'index': [0, 1, 2, 3, 4, 5, 6, 7, 8, 9, 10, 11, 12, 13, 14, 15, 16, 17, 18, 19, …"
      ]
     },
     "metadata": {},
     "output_type": "display_data"
    }
   ],
   "source": [
    "import keplergl\n",
    "import pandas as pd\n",
    "import numpy as np\n",
    "import geopandas\n",
    "\n",
    "kp_data = {'tul': 'C:/Users/NECSOFT/Documents/Repositories/LRP/Data/upz.geojson',\n",
    "            'home': 'E:/Main User/Documents/Repositories/VRP/Data/upz.geojson'}\n",
    "hardware_stores_path = {'tul':'C:/Users/NECSOFT/Documents/Repositories/LRP/Data/client_hardwares.csv',\n",
    "                        'home':'E:/Main User/Documents/Repositories/VRP/Data/client_hardwares.csv'}\n",
    "warehouses_path = {'tul':'C:/Users/NECSOFT/Documents/Repositories/LRP/Data/potential_warehouses.csv',\n",
    "                    'home':'E:/Main User/Documents/Repositories/VRP/Data/potential_warehouses.csv'}\n",
    "\n",
    "location = 'tul'\n",
    "df_hs = pd.read_csv(hardware_stores_path[location]) \n",
    "\n",
    "df_w = pd.read_csv(warehouses_path[location])\n",
    "print(df_hs.head())\n",
    "bogota_map = keplergl.KeplerGl(height=700)\n",
    "#data={'clientes': df_hs})\n",
    "upz_file = open(kp_data[location])\n",
    "upz_bogota = geopandas.read_file(upz_file)\n",
    "\n",
    "bogota_map.add_data(data=upz_bogota, name=\"UPZ Bogotá\")\n",
    "bogota_map.add_data(data=df_w, name=\"Bodegas\")\n",
    "bogota_map.add_data(data=df_hs, name=\"Clientes\")\n",
    "bogota_map\n"
   ]
  },
  {
   "cell_type": "code",
   "execution_count": 4,
   "id": "31c85ce5",
   "metadata": {},
   "outputs": [
    {
     "data": {
      "image/png": "[encoded data removed]",
      "text/plain": [
       "<Figure size 792x900 with 1 Axes>"
      ]
     },
     "metadata": {},
     "output_type": "display_data"
    }
   ],
   "source": [
    "# Outlier detection algorithm\n",
    "import matplotlib.pyplot as plt\n",
    "from sklearn.covariance import EllipticEnvelope\n",
    "from sklearn.ensemble import IsolationForest\n",
    "from sklearn.neighbors import LocalOutlierFactor\n",
    "from sklearn import svm\n",
    "\n",
    "dataset = []\n",
    "dict_hs = df_hs.to_dict(orient='index')\n",
    "dataset.append(np.array([[dict_hs[j]['LATITUDE'], \n",
    "                        dict_hs[j]['LONGITUDE'],\n",
    "                        dict_hs[j]['ID']]\n",
    "                        for j in dict_hs]))\n",
    "\n",
    "anomaly_algorithms = [\n",
    "    (\"One-Class SVM 0.1\", svm.OneClassSVM(kernel=\"rbf\",gamma=0.1)),\n",
    "    (\"Robust covariance\", EllipticEnvelope()),\n",
    "    (\"Isolation Forest\", IsolationForest(random_state=42)),\n",
    "    (\"Local Outlier Factor\", LocalOutlierFactor(n_neighbors=35))\n",
    "    ]\n",
    "\n",
    "plt.figure(figsize=(len(anomaly_algorithms) * 2 + 3, 12.5))\n",
    "plt.subplots_adjust(left=.02, right=.98, bottom=.001, top=.96, wspace=.05,\n",
    "                hspace=.01)\n",
    "plot_num = 1\n",
    "\n",
    "results, result_dict = {},{}\n",
    "for i_dataset, X in enumerate(dataset):\n",
    "    for name, algorithm in anomaly_algorithms:\n",
    "        \n",
    "        if i_dataset == 0:\n",
    "            plt.title(name, size=15)\n",
    "\n",
    "        # fit the data and tag outliers\n",
    "        if name == \"Local Outlier Factor\":\n",
    "            y_pred = algorithm.fit_predict(X)\n",
    "        else:\n",
    "            y_pred = algorithm.fit(X).predict(X)\n",
    "        \n",
    "        colors = np.array(['red', 'blue']) #outliers, inliers\n",
    "        plt.scatter(X[:, 0], X[:, 1], s=10, color=colors[(y_pred + 1) // 2])\n",
    "        plt.xticks(())\n",
    "        plt.yticks(())\n",
    "        plot_num += 1\n",
    "        \n",
    "        results = {'inliers':sum([1 for index in y_pred if index == 1]),\n",
    "                    'outliers':sum([1 for index in y_pred if index == -1]),\n",
    "                    'results_df':pd.DataFrame(result_dict)}\n",
    "        \n",
    "        result_dict[name] = {'lat': X[:, 0],\n",
    "                            'long':X[:, 1],\n",
    "                            'id': X[:, 2],\n",
    "                            'y_pred': y_pred,\n",
    "                            'outlier_rate': round(results['outliers']/(results['outliers']+results['inliers']), 2),\n",
    "                            'inlier_rate': round(results['inliers']/(results['outliers']+results['inliers']), 2),\n",
    "                            'model': name\n",
    "                            }\n",
    "\n",
    "        #plt.show()\n"
   ]
  },
  {
   "cell_type": "markdown",
   "id": "afbb56c2",
   "metadata": {},
   "source": [
    "### ahora lo que necesitamos es observar en el mapa la muestra resultante con la cual haremos todos los analisis"
   ]
  },
  {
   "cell_type": "code",
   "execution_count": 5,
   "id": "8d58e57b",
   "metadata": {},
   "outputs": [
    {
     "name": "stdout",
     "output_type": "stream",
     "text": [
      "User Guide: https://docs.kepler.gl/docs/keplergl-jupyter\n"
     ]
    },
    {
     "data": {
      "application/vnd.jupyter.widget-view+json": {
       "model_id": "4b477278de8c4bed84a6d8caf0f3def0",
       "version_major": 2,
       "version_minor": 0
      },
      "text/plain": [
       "KeplerGl(data={'One-Class SVM 0.1':           lat       long       id\n",
       "2   -2.891841 -69.741923    296.0\n",
       "3    4…"
      ]
     },
     "metadata": {},
     "output_type": "display_data"
    }
   ],
   "source": [
    "# export data for further analysis\n",
    "import json\n",
    "\n",
    "client_data = {}\n",
    "for key in result_dict.keys():\n",
    "    model_df = pd.DataFrame(result_dict[key])\n",
    "    client_df = model_df.loc[model_df['y_pred'] == 1]\n",
    "    client_df = client_df.filter(items=['lat', 'long', 'id'])\n",
    "    client_data[key] = client_df\n",
    "    \n",
    "# visualizar el nuevo mapa para verificar resultados obtenidos\n",
    "outlier_map = keplergl.KeplerGl(height=700, data=client_data)\n",
    "outlier_map"
   ]
  },
  {
   "cell_type": "code",
   "execution_count": 6,
   "id": "db5b79bb",
   "metadata": {},
   "outputs": [],
   "source": [
    "# export data so we can do matrixes\n",
    "import json\n",
    "\n",
    "model_df = pd.DataFrame(result_dict[ \"Isolation Forest\"])\n",
    "client_df = model_df.loc[model_df['y_pred'] == 1]\n",
    "client_df = client_df.filter(items=['lat', 'long','id'])\n",
    "client_df['point_type'] = ['client' for i in range(len(client_df))]\n",
    "\n",
    "warehouses_df = df_w.filter(items=['LATITUDE', 'LONGITUDE'])\n",
    "warehouses_df['POINT_TYPE'] = ['warehouse' for i in range(len(warehouses_df))]\n",
    "warehouses_df['ID'] = [i for i in range(len(warehouses_df))]\n",
    "warehouses_df.columns = ['lat', 'long', 'point_type', 'id']\n",
    "\n",
    "data_dict = pd.concat([warehouses_df, client_df])\n",
    "\n",
    "# send to json format\n",
    "data_dict = data_dict.to_dict(\"records\")\n",
    "with open(\"Data/problem_set.json\", \"w+\") as f:\n",
    "    json.dump(data_dict, f)\n"
   ]
  },
  {
   "cell_type": "code",
   "execution_count": 34,
   "id": "7e730b89",
   "metadata": {},
   "outputs": [
    {
     "name": "stdout",
     "output_type": "stream",
     "text": [
      "         lat       long point_type\n",
      "0   4.695547 -74.179464  warehouse\n",
      "1   4.639974 -74.115102  warehouse\n",
      "2   4.624162 -74.088473  warehouse\n",
      "3   4.624579 -74.093208  warehouse\n",
      "4   4.621671 -74.093444  warehouse\n",
      "5   4.744053 -74.037572  warehouse\n",
      "6   4.678669 -74.087210  warehouse\n",
      "7   4.742840 -74.043839  warehouse\n",
      "8   4.739659 -74.036666  warehouse\n",
      "9   4.744037 -74.038729  warehouse\n",
      "10  4.748230 -74.044135  warehouse\n",
      "11  4.693394 -74.077673  warehouse\n",
      "12  4.667625 -74.072527  warehouse\n",
      "13  4.686995 -74.088007  warehouse\n",
      "14  4.676962 -74.114360  warehouse\n",
      "15  4.743033 -74.045203  warehouse\n",
      "16  4.764400 -74.028227  warehouse\n",
      "17  4.662928 -74.068255  warehouse\n",
      "18  4.764406 -74.030120  warehouse\n",
      "19  4.682957 -74.129021  warehouse\n",
      "20  4.737055 -74.025836  warehouse\n",
      "21  4.730675 -74.024984  warehouse\n",
      "22  4.629594 -74.119054  warehouse\n",
      "23  4.677934 -74.162860  warehouse\n",
      "24  4.642311 -74.119973  warehouse\n",
      "25  4.629486 -74.109202  warehouse\n",
      "26  4.697149 -74.097457  warehouse\n",
      "27  4.606654 -74.099036  warehouse\n",
      "28  4.686986 -74.087983  warehouse\n",
      "29  4.670128 -74.156556  warehouse\n",
      "30  4.714655 -74.241577  warehouse\n",
      "31  4.721088 -74.240477  warehouse\n",
      "32  4.712727 -74.243190  warehouse\n",
      "33  4.732567 -74.185835  warehouse\n",
      "34  4.765134 -74.179977  warehouse\n",
      "35  4.712278 -74.216586  warehouse\n",
      "36  4.798022 -74.110617  warehouse\n",
      "37  4.798239 -74.112142  warehouse\n"
     ]
    }
   ],
   "source": [
    "print(warehouses_df)"
   ]
  }
 ],
 "metadata": {
  "interpreter": {
   "hash": "3e1ee8b0f9174d1fbe67968c8ccf5617aba38df90026a7a0201629c90279ecb1"
  },
  "kernelspec": {
   "display_name": "Python 3.8.8 64-bit ('base': conda)",
   "name": "python3"
  },
  "language_info": {
   "codemirror_mode": {
    "name": "ipython",
    "version": 3
   },
   "file_extension": ".py",
   "mimetype": "text/x-python",
   "name": "python",
   "nbconvert_exporter": "python",
   "pygments_lexer": "ipython3",
   "version": "3.9.7"
  }
 },
 "nbformat": 4,
 "nbformat_minor": 5
}
