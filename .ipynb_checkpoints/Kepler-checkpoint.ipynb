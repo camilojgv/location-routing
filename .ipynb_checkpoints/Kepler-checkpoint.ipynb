{
 "cells": [
  {
   "cell_type": "markdown",
   "id": "0a0a6d88",
   "metadata": {},
   "source": [
    "## Kepler GL maps in jupyter"
   ]
  },
  {
   "cell_type": "code",
   "execution_count": 2,
   "id": "80d27a6b",
   "metadata": {},
   "outputs": [
    {
     "name": "stdout",
     "output_type": "stream",
     "text": [
      "User Guide: https://docs.kepler.gl/docs/keplergl-jupyter\n"
     ]
    },
    {
     "data": {
      "application/vnd.jupyter.widget-view+json": {
       "model_id": "d36ce5e646bb47e19f666539c3f29989",
       "version_major": 2,
       "version_minor": 0
      },
      "text/plain": [
       "KeplerGl(data={'clientes':       LATITUDE  LONGITUDE  CLIENT_WEIGHT\n",
       "0     4.610088 -74.189384              1\n",
       "1…"
      ]
     },
     "metadata": {},
     "output_type": "display_data"
    }
   ],
   "source": [
    "import keplergl\n",
    "import pandas as pd\n",
    "import geopandas\n",
    "\n",
    "kp_data = 'E:/Main User/Documents/Repositories/VRP/Kepler maps/upz.geojson'\n",
    "          # 'E:/Main User/Documents/Repositories/Hub location/Kepler maps/upz.geojson'\n",
    "          # 'C:/Users/NECSOFT/Documents/Repositorios/LRP/Kepler maps/upz.geojson'\n",
    "\n",
    "hardware_stores_path = 'E:/Main User/Documents/Repositories/VRP/Bogota Data/bogota_hardware_stores.csv'\n",
    "                       # 'E:/Main User/Documents/Repositories/Hub location/Bogota Data/bogota_hardware_stores.csv'\n",
    "                       # 'C:/Users/NECSOFT/Documents/Repositorios/LRP/Bogota Data/bogota_hardware_stores.csv'\n",
    "\n",
    "warehouses_path = 'E:/Main User/Documents/Repositories/VRP/Bogota Data/potential_warehouses.csv'\n",
    "                  #'E:/Main User/Documents/Repositories/Hub location/Bogota Data/potential_warehouses.csv'\n",
    "                  #'C:/Users/NECSOFT/Documents/Repositorios/LRP/Bogota Data/potential_warehouses.csv'\n",
    "df_hs = pd.read_csv(hardware_stores_path) \n",
    "df_w = pd.read_csv(warehouses_path)\n",
    "\n",
    "bogota_map = keplergl.KeplerGl(height=500, data={'clientes': df_hs, 'bodegas': df_w})\n",
    "upz_file = open(kp_data)\n",
    "upz_bogota = geopandas.read_file(upz_file)\n",
    "\n",
    "bogota_map.add_data(data=upz_bogota, name=\"UPZ Bogotá\")\n",
    "\n",
    "bogota_map"
   ]
  },
  {
   "cell_type": "code",
   "execution_count": 11,
   "id": "06d9b74d",
   "metadata": {},
   "outputs": [
    {
     "name": "stdout",
     "output_type": "stream",
     "text": [
      "CODIGO_UPZ                                                             52\n",
      "NOMBRE                                                           LA FLORA\n",
      "ZONA_ESTACIONAMIENTO                                                    D\n",
      "DECRETO_POT                                                           190\n",
      "ACTO_ADMINISTRATIVO                                       Dec 400 de 2006\n",
      "AREA_HECTAREAS                                                 187.716026\n",
      "geometry                (POLYGON ((-74.08736926799997 4.51697194000007...\n",
      "Name: 11, dtype: object\n"
     ]
    }
   ],
   "source": [
    "print(upz_bogota.iloc[11])"
   ]
  },
  {
   "cell_type": "code",
   "execution_count": 17,
   "id": "90e29c87",
   "metadata": {},
   "outputs": [
    {
     "name": "stdout",
     "output_type": "stream",
     "text": [
      "(-74.09518308499997, 4.497415833000048, -74.07858931399994, 4.517801744000053)\n"
     ]
    }
   ],
   "source": [
    "#Descomposicion de poligonos\n",
    "import numpy as np\n",
    "from shapely import geometry\n",
    "from shapely.ops import cascaded_union\n",
    "\n",
    "point = upz_bogota['geometry'].iloc[11]\n",
    "mp = geometry.MultiPolygon(point)\n",
    "print(mp.bounds)\n",
    "# eps = 0.01\n",
    "# omega = cascaded_union([geometry.Polygon(component.exterior).buffer(eps).buffer(-eps) for component in mp]) \n",
    "\n",
    "# try:\n",
    "#     for x,y in zip(*omega.exterior.coords.xy):\n",
    "#         print(x, y)\n",
    "# except AttributeError:\n",
    "#     print(upz_bogota['NOMBRE'].iloc[11])\n",
    "#     print(omega.shape())"
   ]
  },
  {
   "cell_type": "code",
   "execution_count": 36,
   "id": "33f56545",
   "metadata": {},
   "outputs": [
    {
     "name": "stdout",
     "output_type": "stream",
     "text": [
      "POLYGON ((4.457859950000056 -74.22358138499999, 4.830660934000036 -74.22358138499999, 4.830660934000036 -74.00978469299997, 4.457859950000056 -74.00978469299997, 4.457859950000056 -74.22358138499999))\n"
     ]
    }
   ],
   "source": [
    "# Checkear los limites de los poligonos, encontrar poligono que cubre toda la zona\n",
    "points = upz_bogota['geometry']\n",
    "limit_coordinates = {\n",
    "                     'min_longitude': 0,\n",
    "                     'min_latitude': 10,\n",
    "                     'max_longitude': -100,\n",
    "                     'max_latitude': 0\n",
    "                    }\n",
    "for i, p in enumerate(points):\n",
    "    try:\n",
    "        # print(\"---------------------------\")\n",
    "        # print('polygon name {}'.format(upz_bogota['NOMBRE'].iloc[i]))\n",
    "        # print(p.bounds)\n",
    "        min_long = p.bounds[0]\n",
    "        min_lat = p.bounds[1]\n",
    "\n",
    "        max_long = p.bounds[2]\n",
    "        max_lat = p.bounds[3]\n",
    "        \n",
    "        if min_long <= limit_coordinates['min_longitude']:\n",
    "            limit_coordinates['min_longitude'] = min_long\n",
    "        if max_long >= limit_coordinates['max_longitude']:\n",
    "            limit_coordinates['max_longitude'] = max_long\n",
    "        if min_lat <= limit_coordinates['min_latitude']:\n",
    "            limit_coordinates['min_latitude'] = min_lat\n",
    "        if max_lat >= limit_coordinates['max_latitude']:\n",
    "            limit_coordinates['max_latitude'] = max_lat\n",
    "    \n",
    "    except AttributeError:\n",
    "        print(upz_bogota['NOMBRE'].iloc[i])\n",
    "\n",
    "# crear poligono final\n",
    "point_list = [\n",
    "              (limit_coordinates['min_latitude'], limit_coordinates['min_longitude']),\n",
    "              (limit_coordinates['max_latitude'], limit_coordinates['min_longitude']),\n",
    "              (limit_coordinates['max_latitude'], limit_coordinates['max_longitude']),\n",
    "              (limit_coordinates['min_latitude'], limit_coordinates['max_longitude'])              \n",
    "             ]\n",
    "\n",
    "poly = geometry.Polygon([[p[0], p[1]] for p in point_list])\n",
    "print(poly)"
   ]
  },
  {
   "cell_type": "code",
   "execution_count": 42,
   "id": "ef48c31f",
   "metadata": {},
   "outputs": [
    {
     "name": "stdout",
     "output_type": "stream",
     "text": [
      "User Guide: https://docs.kepler.gl/docs/keplergl-jupyter\n"
     ]
    },
    {
     "data": {
      "application/vnd.jupyter.widget-view+json": {
       "model_id": "c4781c9edf214aeba0bf14690a2a656d",
       "version_major": 2,
       "version_minor": 0
      },
      "text/plain": [
       "KeplerGl(data={'UPZ Bogotá': {'index': [0, 1, 2, 3, 4, 5, 6, 7, 8, 9, 10, 11, 12, 13, 14, 15, 16, 17, 18, 19, …"
      ]
     },
     "metadata": {},
     "output_type": "display_data"
    }
   ],
   "source": [
    "# Visualize polygon and upz\n",
    "import json\n",
    "\n",
    "base_map = keplergl.KeplerGl(height=500)\n",
    "base_map.add_data(data=upz_bogota, name=\"UPZ Bogotá\")\n",
    "\n",
    "# GeoJson Feature geometry\n",
    "geometryString = {\n",
    "    'type': 'Polygon',\n",
    "    'coordinates': [[[point_list[0][0],point_list[0][1]],\n",
    "                     [point_list[1][0],point_list[1][1]],\n",
    "                     [point_list[2][0],point_list[2][1]],\n",
    "                     [point_list[3][0],point_list[3][1]]\n",
    "                   ]]\n",
    "}\n",
    "\n",
    "# create json string\n",
    "json_str = json.dumps(geometryString)\n",
    "\n",
    "# create data frame\n",
    "df_with_geometry = pd.DataFrame({\n",
    "    'id': [1],\n",
    "    'geometry_string': [json_str]\n",
    "})\n",
    "\n",
    "geo_map = geopandas.read_\n",
    "# add to map\n",
    "base_map.add_data(df_with_geometry, \"df_with_geometry\")\n",
    "\n",
    "base_map\n"
   ]
  }
 ],
 "metadata": {
  "interpreter": {
   "hash": "3e1ee8b0f9174d1fbe67968c8ccf5617aba38df90026a7a0201629c90279ecb1"
  },
  "kernelspec": {
   "display_name": "Python 3",
   "language": "python",
   "name": "python3"
  },
  "language_info": {
   "codemirror_mode": {
    "name": "ipython",
    "version": 3
   },
   "file_extension": ".py",
   "mimetype": "text/x-python",
   "name": "python",
   "nbconvert_exporter": "python",
   "pygments_lexer": "ipython3",
   "version": "3.8.8"
  }
 },
 "nbformat": 4,
 "nbformat_minor": 5
}
